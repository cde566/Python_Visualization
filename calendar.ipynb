{
 "cells": [
  {
   "cell_type": "markdown",
   "metadata": {},
   "source": [
    "# Calendar example"
   ]
  },
  {
   "cell_type": "code",
   "execution_count": 14,
   "metadata": {},
   "outputs": [
    {
     "data": {
      "text/plain": [
       "'/home/qeek/Desktop/cindy/python_visualize/calendar_base.html'"
      ]
     },
     "execution_count": 14,
     "metadata": {},
     "output_type": "execute_result"
    }
   ],
   "source": [
    "## calendar\n",
    "import datetime\n",
    "import random\n",
    "\n",
    "from pyecharts import options as opts\n",
    "from pyecharts.charts import Calendar\n",
    "from snapshot_selenium import snapshot\n",
    "\n",
    "\n",
    "begin = datetime.date(2020, 1, 1)\n",
    "end = datetime.date(2020, 12, 31)\n",
    "data = [\n",
    "    [str(begin + datetime.timedelta(days=i)), random.randint(1000, 25000)]\n",
    "    for i in range((end - begin).days + 1)\n",
    "]\n",
    "\n",
    "calendar = (\n",
    "    Calendar()\n",
    "    .add(\"步數\", data, calendar_opts=opts.CalendarOpts(range_=\"2020\"))\n",
    "    .set_global_opts(\n",
    "        title_opts=opts.TitleOpts(title=\"2020年行走步數\"),\n",
    "        visualmap_opts=opts.VisualMapOpts(\n",
    "            max_=30000,\n",
    "            min_=500,\n",
    "            orient=\"horizontal\",\n",
    "            is_piecewise=True,\n",
    "            pos_top=\"230px\",\n",
    "            pos_left=\"230px\",\n",
    "        ),\n",
    "    )\n",
    ")\n",
    "calendar.render(\"calendar_base.html\")"
   ]
  }
 ],
 "metadata": {
  "kernelspec": {
   "display_name": "visualize",
   "language": "python",
   "name": "visualize"
  },
  "language_info": {
   "codemirror_mode": {
    "name": "ipython",
    "version": 3
   },
   "file_extension": ".py",
   "mimetype": "text/x-python",
   "name": "python",
   "nbconvert_exporter": "python",
   "pygments_lexer": "ipython3",
   "version": "3.8.11"
  }
 },
 "nbformat": 4,
 "nbformat_minor": 4
}