{
 "cells": [
  {
   "cell_type": "markdown",
   "metadata": {},
   "source": [
    "# Map example"
   ]
  },
  {
   "cell_type": "code",
   "execution_count": 16,
   "metadata": {},
   "outputs": [
    {
     "name": "stdout",
     "output_type": "stream",
     "text": [
      "[['China', 95.1], ['Canada', 23.2], ['Brazil', 43.3], ['Russia', 66.4], ['United States', 88.5]]\n"
     ]
    }
   ],
   "source": [
    "## maps\n",
    "from pyecharts import options as opts\n",
    "from pyecharts.charts import Map\n",
    "\n",
    "value = [95.1, 23.2, 43.3, 66.4, 88.5]\n",
    "attr = [\"China\", \"Canada\", \"Brazil\", \"Russia\", \"United States\"]\n",
    "\n",
    "data = []\n",
    "for index in range(len(attr)):\n",
    "    city_ionfo=[attr[index],value[index]]\n",
    "    data.append(city_ionfo)\n",
    "print(data)\n",
    "c = (\n",
    "    Map()\n",
    "    .add(\"世界地圖\", data, \"United States\")\n",
    "    .set_series_opts(label_opts=opts.LabelOpts(is_show=False))\n",
    "    .set_global_opts(\n",
    "        title_opts=opts.TitleOpts(title=\"世界地圖範例\"),\n",
    "        visualmap_opts=opts.VisualMapOpts(max_=200),\n",
    "\n",
    "    )\n",
    "    .render(\"maps.html\")\n",
    ")"
   ]
  }
 ],
 "metadata": {
  "kernelspec": {
   "display_name": "visualize",
   "language": "python",
   "name": "visualize"
  },
  "language_info": {
   "codemirror_mode": {
    "name": "ipython",
    "version": 3
   },
   "file_extension": ".py",
   "mimetype": "text/x-python",
   "name": "python",
   "nbconvert_exporter": "python",
   "pygments_lexer": "ipython3",
   "version": "3.8.11"
  }
 },
 "nbformat": 4,
 "nbformat_minor": 4
}