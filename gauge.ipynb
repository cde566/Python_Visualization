{
 "cells": [
  {
   "cell_type": "markdown",
   "metadata": {},
   "source": [
    "# Gauge example"
   ]
  },
  {
   "cell_type": "code",
   "execution_count": 13,
   "metadata": {},
   "outputs": [
    {
     "data": {
      "text/plain": [
       "'/home/qeek/Desktop/cindy/python_visualize/gauge_change_color.html'"
      ]
     },
     "execution_count": 13,
     "metadata": {},
     "output_type": "execute_result"
    }
   ],
   "source": [
    "## Gauge\n",
    "import pyecharts.options as opts\n",
    "from pyecharts.charts import Gauge\n",
    "\n",
    "gauge = (\n",
    "    Gauge(init_opts=opts.InitOpts(width=\"1600px\", height=\"800px\"))\n",
    "    .add(series_name=\"\", data_pair=[(\"完成率\", 68.5)], detail_label_opts=opts.GaugeDetailOpts(offset_center=[\"0%\", \"30%\"]))\n",
    "    .set_global_opts(\n",
    "        legend_opts=opts.LegendOpts(is_show=False),\n",
    "        tooltip_opts=opts.TooltipOpts(is_show=True, formatter=\"{a} <br/>{b} : {c}%\"),\n",
    "    )\n",
    "    .set_series_opts(\n",
    "        axisline_opts=opts.AxisLineOpts(\n",
    "            linestyle_opts=opts.LineStyleOpts(\n",
    "                color=[[0.3, \"#67e0e3\"], [0.7, \"#37a2da\"], [1, \"#fd666d\"]], width=30\n",
    "            )\n",
    "        )\n",
    "    )\n",
    ")\n",
    "gauge.render(\"gauge_change_color.html\")"
   ]
  }
 ],
 "metadata": {
  "kernelspec": {
   "display_name": "visualize",
   "language": "python",
   "name": "visualize"
  },
  "language_info": {
   "codemirror_mode": {
    "name": "ipython",
    "version": 3
   },
   "file_extension": ".py",
   "mimetype": "text/x-python",
   "name": "python",
   "nbconvert_exporter": "python",
   "pygments_lexer": "ipython3",
   "version": "3.8.11"
  }
 },
 "nbformat": 4,
 "nbformat_minor": 4
}