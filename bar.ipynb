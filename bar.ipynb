{
 "cells": [
  {
   "cell_type": "markdown",
   "metadata": {},
   "source": [
    "# Bar example"
   ]
  },
  {
   "cell_type": "code",
   "execution_count": null,
   "metadata": {},
   "outputs": [],
   "source": [
    "from pyecharts.charts import Bar\n",
    "from pyecharts import options as opts\n",
    "\n",
    "# 鏈式調用\n",
    "bar = (\n",
    "    Bar()\n",
    "    .add_xaxis([\"襯衫\", \"羊毛衫\", \"雪紡\", \"褲子\", \"鞋子\", \"襪子\"])\n",
    "    .add_yaxis(\"商店A\", [5, 50, 100, 90, 110, 30])\n",
    "    .set_global_opts(title_opts=opts.TitleOpts(title=\"鏈式調用 Bar1結果\", subtitle=\"商店A中六樣商品數\"))\n",
    ")\n",
    "bar.render(\"bar1.html\")\n",
    "\n",
    "# 單獨調用\n",
    "bar = Bar()\n",
    "bar.add_xaxis([\"襯衫\", \"羊毛衫\", \"雪紡\", \"褲子\", \"鞋子\", \"襪子\"])\n",
    "bar.add_yaxis(\"商店A\", [5, 50, 100, 90, 110, 30])\n",
    "bar.set_global_opts(title_opts=opts.TitleOpts(title=\"單獨調用 Bar2結果\", subtitle=\"商店A中六樣商品數\"))\n",
    "bar.render(\"bar2.html\")"
   ]
  }
 ],
 "metadata": {
  "kernelspec": {
   "display_name": "visualize",
   "language": "python",
   "name": "visualize"
  },
  "language_info": {
   "codemirror_mode": {
    "name": "ipython",
    "version": 3
   },
   "file_extension": ".py",
   "mimetype": "text/x-python",
   "name": "python",
   "nbconvert_exporter": "python",
   "pygments_lexer": "ipython3",
   "version": "3.8.11"
  }
 },
 "nbformat": 4,
 "nbformat_minor": 4
}